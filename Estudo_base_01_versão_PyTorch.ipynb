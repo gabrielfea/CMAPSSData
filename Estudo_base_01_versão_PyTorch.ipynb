{
  "cells": [
    {
      "cell_type": "markdown",
      "metadata": {
        "id": "view-in-github",
        "colab_type": "text"
      },
      "source": [
        "<a href=\"https://colab.research.google.com/github/gabrielfea/CMAPSSData/blob/main/Estudo_base_01_vers%C3%A3o_PyTorch.ipynb\" target=\"_parent\"><img src=\"https://colab.research.google.com/assets/colab-badge.svg\" alt=\"Open In Colab\"/></a>"
      ]
    },
    {
      "cell_type": "code",
      "execution_count": 21,
      "metadata": {
        "colab": {
          "base_uri": "https://localhost:8080/",
          "height": 1000
        },
        "id": "gYFsqu3xoTBz",
        "outputId": "1479a3a1-1585-435d-ed7b-4ccd1bee48a4"
      },
      "outputs": [
        {
          "output_type": "stream",
          "name": "stdout",
          "text": [
            "Running on cuda\n"
          ]
        },
        {
          "output_type": "stream",
          "name": "stderr",
          "text": [
            "Epoch 1/500: 100%|██████████| 8/8 [00:01<00:00,  6.01it/s]\n"
          ]
        },
        {
          "output_type": "stream",
          "name": "stdout",
          "text": [
            "Epoch: 1, loss: 554511381774.07190, rmse (val): 85.87605, score (val): 55374.27734, mae (val): 77.52327, mse (val): 7374.69547\n"
          ]
        },
        {
          "output_type": "stream",
          "name": "stderr",
          "text": [
            "Epoch 2/500: 100%|██████████| 8/8 [00:01<00:00,  6.09it/s]\n"
          ]
        },
        {
          "output_type": "stream",
          "name": "stdout",
          "text": [
            "Epoch: 2, loss: 481162306756.75055, rmse (val): 85.19047, score (val): 52211.19531, mae (val): 76.83519, mse (val): 7257.41617\n"
          ]
        },
        {
          "output_type": "stream",
          "name": "stderr",
          "text": [
            "Epoch 3/500: 100%|██████████| 8/8 [00:01<00:00,  6.04it/s]\n"
          ]
        },
        {
          "output_type": "stream",
          "name": "stdout",
          "text": [
            "Epoch: 3, loss: 521962087521.86682, rmse (val): 81.88235, score (val): 39240.19141, mae (val): 73.49501, mse (val): 6704.71846\n"
          ]
        },
        {
          "output_type": "stream",
          "name": "stderr",
          "text": [
            "Epoch 4/500: 100%|██████████| 8/8 [00:01<00:00,  5.96it/s]\n"
          ]
        },
        {
          "output_type": "stream",
          "name": "stdout",
          "text": [
            "Epoch: 4, loss: 380753400554.62378, rmse (val): 80.61253, score (val): 35137.35938, mae (val): 72.20339, mse (val): 6498.38028\n"
          ]
        },
        {
          "output_type": "stream",
          "name": "stderr",
          "text": [
            "Epoch 5/500: 100%|██████████| 8/8 [00:01<00:00,  6.04it/s]\n"
          ]
        },
        {
          "output_type": "stream",
          "name": "stdout",
          "text": [
            "Epoch: 5, loss: 330855050044.61896, rmse (val): 79.45887, score (val): 31769.33594, mae (val): 71.02492, mse (val): 6313.71210\n"
          ]
        },
        {
          "output_type": "stream",
          "name": "stderr",
          "text": [
            "Epoch 6/500: 100%|██████████| 8/8 [00:01<00:00,  6.10it/s]\n"
          ]
        },
        {
          "output_type": "stream",
          "name": "stdout",
          "text": [
            "Epoch: 6, loss: 283781759528.26221, rmse (val): 78.58503, score (val): 29426.39844, mae (val): 70.12894, mse (val): 6175.60632\n"
          ]
        },
        {
          "output_type": "stream",
          "name": "stderr",
          "text": [
            "Epoch 7/500: 100%|██████████| 8/8 [00:01<00:00,  5.85it/s]\n"
          ]
        },
        {
          "output_type": "stream",
          "name": "stdout",
          "text": [
            "Epoch: 7, loss: 266569146218.40683, rmse (val): 77.71209, score (val): 27251.51172, mae (val): 69.29413, mse (val): 6039.16953\n"
          ]
        },
        {
          "output_type": "stream",
          "name": "stderr",
          "text": [
            "Epoch 8/500: 100%|██████████| 8/8 [00:01<00:00,  5.85it/s]\n"
          ]
        },
        {
          "output_type": "stream",
          "name": "stdout",
          "text": [
            "Epoch: 8, loss: 239584594456.71613, rmse (val): 76.89210, score (val): 25349.12109, mae (val): 68.59901, mse (val): 5912.39451\n"
          ]
        },
        {
          "output_type": "stream",
          "name": "stderr",
          "text": [
            "Epoch 9/500: 100%|██████████| 8/8 [00:01<00:00,  6.13it/s]\n"
          ]
        },
        {
          "output_type": "stream",
          "name": "stdout",
          "text": [
            "Epoch: 9, loss: 221212784774.83258, rmse (val): 76.06372, score (val): 23556.33398, mae (val): 67.93164, mse (val): 5785.68925\n"
          ]
        },
        {
          "output_type": "stream",
          "name": "stderr",
          "text": [
            "Epoch 10/500: 100%|██████████| 8/8 [00:01<00:00,  6.06it/s]\n"
          ]
        },
        {
          "output_type": "stream",
          "name": "stdout",
          "text": [
            "Epoch: 10, loss: 198092545646.81577, rmse (val): 75.34435, score (val): 22098.01758, mae (val): 67.35016, mse (val): 5676.77175\n"
          ]
        },
        {
          "output_type": "stream",
          "name": "stderr",
          "text": [
            "Epoch 11/500: 100%|██████████| 8/8 [00:01<00:00,  6.16it/s]\n"
          ]
        },
        {
          "output_type": "stream",
          "name": "stdout",
          "text": [
            "Epoch: 11, loss: 186625054366.43210, rmse (val): 74.57574, score (val): 20634.83203, mae (val): 66.72679, mse (val): 5561.54034\n"
          ]
        },
        {
          "output_type": "stream",
          "name": "stderr",
          "text": [
            "Epoch 12/500: 100%|██████████| 8/8 [00:01<00:00,  6.12it/s]\n"
          ]
        },
        {
          "output_type": "stream",
          "name": "stdout",
          "text": [
            "Epoch: 12, loss: 172053676554.93350, rmse (val): 73.90572, score (val): 19434.83594, mae (val): 66.18156, mse (val): 5462.05485\n"
          ]
        },
        {
          "output_type": "stream",
          "name": "stderr",
          "text": [
            "Epoch 13/500: 100%|██████████| 8/8 [00:01<00:00,  6.08it/s]\n"
          ]
        },
        {
          "output_type": "stream",
          "name": "stdout",
          "text": [
            "Epoch: 13, loss: 151385842675.39056, rmse (val): 73.17660, score (val): 18204.24023, mae (val): 65.58624, mse (val): 5354.81510\n"
          ]
        },
        {
          "output_type": "stream",
          "name": "stderr",
          "text": [
            "Epoch 14/500: 100%|██████████| 8/8 [00:01<00:00,  5.98it/s]\n"
          ]
        },
        {
          "output_type": "stream",
          "name": "stdout",
          "text": [
            "Epoch: 14, loss: 144580060178.81482, rmse (val): 72.53369, score (val): 17180.66211, mae (val): 65.05950, mse (val): 5261.13576\n"
          ]
        },
        {
          "output_type": "stream",
          "name": "stderr",
          "text": [
            "Epoch 15/500: 100%|██████████| 8/8 [00:01<00:00,  5.82it/s]\n"
          ]
        },
        {
          "output_type": "stream",
          "name": "stdout",
          "text": [
            "Epoch: 15, loss: 136859345546.12285, rmse (val): 71.84802, score (val): 16149.06641, mae (val): 64.49581, mse (val): 5162.13812\n"
          ]
        },
        {
          "output_type": "stream",
          "name": "stderr",
          "text": [
            "Epoch 16/500: 100%|██████████| 8/8 [00:01<00:00,  5.72it/s]\n"
          ]
        },
        {
          "output_type": "stream",
          "name": "stdout",
          "text": [
            "Epoch: 16, loss: 127337546500.56699, rmse (val): 71.20533, score (val): 15235.42773, mae (val): 63.96556, mse (val): 5070.19870\n"
          ]
        },
        {
          "output_type": "stream",
          "name": "stderr",
          "text": [
            "Epoch 17/500: 100%|██████████| 8/8 [00:01<00:00,  6.12it/s]\n"
          ]
        },
        {
          "output_type": "stream",
          "name": "stdout",
          "text": [
            "Epoch: 17, loss: 117297444334.94331, rmse (val): 70.58664, score (val): 14402.10254, mae (val): 63.45334, mse (val): 4982.47383\n"
          ]
        },
        {
          "output_type": "stream",
          "name": "stderr",
          "text": [
            "Epoch 18/500: 100%|██████████| 8/8 [00:01<00:00,  6.11it/s]\n"
          ]
        },
        {
          "output_type": "stream",
          "name": "stdout",
          "text": [
            "Epoch: 18, loss: 110413754170.34503, rmse (val): 70.20225, score (val): 13906.15820, mae (val): 63.13419, mse (val): 4928.35572\n"
          ]
        },
        {
          "output_type": "stream",
          "name": "stderr",
          "text": [
            "Epoch 19/500: 100%|██████████| 8/8 [00:01<00:00,  6.08it/s]\n"
          ]
        },
        {
          "output_type": "stream",
          "name": "stdout",
          "text": [
            "Epoch: 19, loss: 94739373286.80042, rmse (val): 69.43494, score (val): 12963.78125, mae (val): 62.49494, mse (val): 4821.21139\n"
          ]
        },
        {
          "output_type": "stream",
          "name": "stderr",
          "text": [
            "Epoch 20/500: 100%|██████████| 8/8 [00:01<00:00,  6.04it/s]\n"
          ]
        },
        {
          "output_type": "stream",
          "name": "stdout",
          "text": [
            "Epoch: 20, loss: 93302573314.02325, rmse (val): 68.90000, score (val): 12342.62012, mae (val): 62.04751, mse (val): 4747.21045\n"
          ]
        },
        {
          "output_type": "stream",
          "name": "stderr",
          "text": [
            "Epoch 21/500: 100%|██████████| 8/8 [00:01<00:00,  5.93it/s]\n"
          ]
        },
        {
          "output_type": "stream",
          "name": "stdout",
          "text": [
            "Epoch: 21, loss: 87680660558.53242, rmse (val): 68.37744, score (val): 11762.85645, mae (val): 61.60899, mse (val): 4675.47447\n"
          ]
        },
        {
          "output_type": "stream",
          "name": "stderr",
          "text": [
            "Epoch 22/500: 100%|██████████| 8/8 [00:01<00:00,  5.91it/s]\n"
          ]
        },
        {
          "output_type": "stream",
          "name": "stdout",
          "text": [
            "Epoch: 22, loss: 85236583810.14690, rmse (val): 67.80043, score (val): 11152.34766, mae (val): 61.12305, mse (val): 4596.89890\n"
          ]
        },
        {
          "output_type": "stream",
          "name": "stderr",
          "text": [
            "Epoch 23/500: 100%|██████████| 8/8 [00:01<00:00,  5.88it/s]\n"
          ]
        },
        {
          "output_type": "stream",
          "name": "stdout",
          "text": [
            "Epoch: 23, loss: 81815207617.74405, rmse (val): 67.29070, score (val): 10637.80469, mae (val): 60.69221, mse (val): 4528.03856\n"
          ]
        },
        {
          "output_type": "stream",
          "name": "stderr",
          "text": [
            "Epoch 24/500: 100%|██████████| 8/8 [00:01<00:00,  5.70it/s]\n"
          ]
        },
        {
          "output_type": "stream",
          "name": "stdout",
          "text": [
            "Epoch: 24, loss: 74684242218.67685, rmse (val): 66.78101, score (val): 10145.52930, mae (val): 60.25988, mse (val): 4459.70292\n"
          ]
        },
        {
          "output_type": "stream",
          "name": "stderr",
          "text": [
            "Epoch 25/500: 100%|██████████| 8/8 [00:01<00:00,  5.94it/s]\n"
          ]
        },
        {
          "output_type": "stream",
          "name": "stdout",
          "text": [
            "Epoch: 25, loss: 70049044135.75778, rmse (val): 66.28136, score (val): 9683.68164, mae (val): 59.84391, mse (val): 4393.21915\n"
          ]
        },
        {
          "output_type": "stream",
          "name": "stderr",
          "text": [
            "Epoch 26/500: 100%|██████████| 8/8 [00:01<00:00,  6.08it/s]\n"
          ]
        },
        {
          "output_type": "stream",
          "name": "stdout",
          "text": [
            "Epoch: 26, loss: 64131534921.91436, rmse (val): 65.83215, score (val): 9285.34570, mae (val): 59.51501, mse (val): 4333.87259\n"
          ]
        },
        {
          "output_type": "stream",
          "name": "stderr",
          "text": [
            "Epoch 27/500: 100%|██████████| 8/8 [00:01<00:00,  6.09it/s]\n"
          ]
        },
        {
          "output_type": "stream",
          "name": "stdout",
          "text": [
            "Epoch: 27, loss: 61830175260.01981, rmse (val): 65.33686, score (val): 8863.88184, mae (val): 59.15109, mse (val): 4268.90577\n"
          ]
        },
        {
          "output_type": "stream",
          "name": "stderr",
          "text": [
            "Epoch 28/500: 100%|██████████| 8/8 [00:01<00:00,  6.14it/s]\n"
          ]
        },
        {
          "output_type": "stream",
          "name": "stdout",
          "text": [
            "Epoch: 28, loss: 59085225702.24136, rmse (val): 64.87977, score (val): 8490.79785, mae (val): 58.81399, mse (val): 4209.38499\n"
          ]
        },
        {
          "output_type": "stream",
          "name": "stderr",
          "text": [
            "Epoch 29/500: 100%|██████████| 8/8 [00:01<00:00,  6.08it/s]\n"
          ]
        },
        {
          "output_type": "stream",
          "name": "stdout",
          "text": [
            "Epoch: 29, loss: 54823489434.43724, rmse (val): 64.44532, score (val): 8149.79395, mae (val): 58.49246, mse (val): 4153.19941\n"
          ]
        },
        {
          "output_type": "stream",
          "name": "stderr",
          "text": [
            "Epoch 30/500: 100%|██████████| 8/8 [00:01<00:00,  5.95it/s]\n"
          ]
        },
        {
          "output_type": "stream",
          "name": "stdout",
          "text": [
            "Epoch: 30, loss: 55198221983.28622, rmse (val): 64.19814, score (val): 7961.50830, mae (val): 58.30901, mse (val): 4121.40093\n"
          ]
        },
        {
          "output_type": "stream",
          "name": "stderr",
          "text": [
            "Epoch 31/500: 100%|██████████| 8/8 [00:01<00:00,  6.14it/s]\n"
          ]
        },
        {
          "output_type": "stream",
          "name": "stdout",
          "text": [
            "Epoch: 31, loss: 49211731030.72366, rmse (val): 63.55304, score (val): 7489.01318, mae (val): 57.82845, mse (val): 4038.98874\n"
          ]
        },
        {
          "output_type": "stream",
          "name": "stderr",
          "text": [
            "Epoch 32/500: 100%|██████████| 8/8 [00:01<00:00,  5.82it/s]\n"
          ]
        },
        {
          "output_type": "stream",
          "name": "stdout",
          "text": [
            "Epoch: 32, loss: 44691180807.91808, rmse (val): 63.12156, score (val): 7187.68408, mae (val): 57.50553, mse (val): 3984.33145\n"
          ]
        },
        {
          "output_type": "stream",
          "name": "stderr",
          "text": [
            "Epoch 33/500: 100%|██████████| 8/8 [00:01<00:00,  5.74it/s]\n"
          ]
        },
        {
          "output_type": "stream",
          "name": "stdout",
          "text": [
            "Epoch: 33, loss: 43408950620.50169, rmse (val): 62.71029, score (val): 6911.00537, mae (val): 57.19658, mse (val): 3932.58064\n"
          ]
        },
        {
          "output_type": "stream",
          "name": "stderr",
          "text": [
            "Epoch 34/500: 100%|██████████| 8/8 [00:01<00:00,  5.86it/s]\n"
          ]
        },
        {
          "output_type": "stream",
          "name": "stdout",
          "text": [
            "Epoch: 34, loss: 42368674067.11869, rmse (val): 62.33060, score (val): 6664.39453, mae (val): 56.91033, mse (val): 3885.10409\n"
          ]
        },
        {
          "output_type": "stream",
          "name": "stderr",
          "text": [
            "Epoch 35/500: 100%|██████████| 8/8 [00:01<00:00,  6.08it/s]\n"
          ]
        },
        {
          "output_type": "stream",
          "name": "stdout",
          "text": [
            "Epoch: 35, loss: 42298736370.33436, rmse (val): 61.93633, score (val): 6416.99561, mae (val): 56.61199, mse (val): 3836.10889\n"
          ]
        },
        {
          "output_type": "stream",
          "name": "stderr",
          "text": [
            "Epoch 36/500: 100%|██████████| 8/8 [00:01<00:00,  6.16it/s]\n"
          ]
        },
        {
          "output_type": "stream",
          "name": "stdout",
          "text": [
            "Epoch: 36, loss: 38350262519.04967, rmse (val): 61.47677, score (val): 6139.43066, mae (val): 56.26282, mse (val): 3779.39347\n"
          ]
        },
        {
          "output_type": "stream",
          "name": "stderr",
          "text": [
            "Epoch 37/500: 100%|██████████| 8/8 [00:01<00:00,  5.92it/s]\n"
          ]
        },
        {
          "output_type": "stream",
          "name": "stdout",
          "text": [
            "Epoch: 37, loss: 37631742636.01044, rmse (val): 61.08183, score (val): 5909.87207, mae (val): 55.96148, mse (val): 3730.99049\n"
          ]
        },
        {
          "output_type": "stream",
          "name": "stderr",
          "text": [
            "Epoch 38/500: 100%|██████████| 8/8 [00:01<00:00,  5.83it/s]\n"
          ]
        },
        {
          "output_type": "stream",
          "name": "stdout",
          "text": [
            "Epoch: 38, loss: 34797702023.19624, rmse (val): 60.69066, score (val): 5690.41650, mae (val): 55.66180, mse (val): 3683.35637\n"
          ]
        },
        {
          "output_type": "stream",
          "name": "stderr",
          "text": [
            "Epoch 39/500: 100%|██████████| 8/8 [00:01<00:00,  5.90it/s]\n"
          ]
        },
        {
          "output_type": "stream",
          "name": "stdout",
          "text": [
            "Epoch: 39, loss: 33439907122.29800, rmse (val): 60.31661, score (val): 5487.70361, mae (val): 55.37410, mse (val): 3638.09349\n"
          ]
        },
        {
          "output_type": "stream",
          "name": "stderr",
          "text": [
            "Epoch 40/500: 100%|██████████| 8/8 [00:01<00:00,  5.84it/s]\n"
          ]
        },
        {
          "output_type": "stream",
          "name": "stdout",
          "text": [
            "Epoch: 40, loss: 31998440830.55247, rmse (val): 60.13217, score (val): 5390.24805, mae (val): 55.23180, mse (val): 3615.87733\n"
          ]
        },
        {
          "output_type": "stream",
          "name": "stderr",
          "text": [
            "Epoch 41/500: 100%|██████████| 8/8 [00:01<00:00,  5.59it/s]\n"
          ]
        },
        {
          "output_type": "stream",
          "name": "stdout",
          "text": [
            "Epoch: 41, loss: 31271605504.72964, rmse (val): 59.55732, score (val): 5096.81543, mae (val): 54.78646, mse (val): 3547.07402\n"
          ]
        },
        {
          "output_type": "stream",
          "name": "stderr",
          "text": [
            "Epoch 42/500: 100%|██████████| 8/8 [00:01<00:00,  5.88it/s]\n"
          ]
        },
        {
          "output_type": "stream",
          "name": "stdout",
          "text": [
            "Epoch: 42, loss: 27989781721.69008, rmse (val): 59.19515, score (val): 4919.71240, mae (val): 54.50439, mse (val): 3504.06524\n"
          ]
        },
        {
          "output_type": "stream",
          "name": "stderr",
          "text": [
            "Epoch 43/500: 100%|██████████| 8/8 [00:01<00:00,  5.86it/s]\n"
          ]
        },
        {
          "output_type": "stream",
          "name": "stdout",
          "text": [
            "Epoch: 43, loss: 29080049816.20706, rmse (val): 58.82668, score (val): 4745.48438, mae (val): 54.21619, mse (val): 3460.57856\n"
          ]
        },
        {
          "output_type": "stream",
          "name": "stderr",
          "text": [
            "Epoch 44/500: 100%|██████████| 8/8 [00:01<00:00,  5.87it/s]\n"
          ]
        },
        {
          "output_type": "stream",
          "name": "stdout",
          "text": [
            "Epoch: 44, loss: 27007762558.08747, rmse (val): 58.44986, score (val): 4573.33740, mae (val): 53.92012, mse (val): 3416.38563\n"
          ]
        },
        {
          "output_type": "stream",
          "name": "stderr",
          "text": [
            "Epoch 45/500: 100%|██████████| 8/8 [00:01<00:00,  6.08it/s]\n"
          ]
        },
        {
          "output_type": "stream",
          "name": "stdout",
          "text": [
            "Epoch: 45, loss: 23689390118.83354, rmse (val): 58.10166, score (val): 4419.53564, mae (val): 53.64532, mse (val): 3375.80245\n"
          ]
        },
        {
          "output_type": "stream",
          "name": "stderr",
          "text": [
            "Epoch 46/500: 100%|██████████| 8/8 [00:01<00:00,  5.99it/s]\n"
          ]
        },
        {
          "output_type": "stream",
          "name": "stdout",
          "text": [
            "Epoch: 46, loss: 25639043687.49184, rmse (val): 57.75064, score (val): 4269.47705, mae (val): 53.36706, mse (val): 3335.13632\n"
          ]
        },
        {
          "output_type": "stream",
          "name": "stderr",
          "text": [
            "Epoch 47/500: 100%|██████████| 8/8 [00:01<00:00,  5.80it/s]\n"
          ]
        },
        {
          "output_type": "stream",
          "name": "stdout",
          "text": [
            "Epoch: 47, loss: 21853325737.70279, rmse (val): 57.60481, score (val): 4208.57129, mae (val): 53.25108, mse (val): 3318.31383\n"
          ]
        },
        {
          "output_type": "stream",
          "name": "stderr",
          "text": [
            "Epoch 48/500: 100%|██████████| 8/8 [00:01<00:00,  5.92it/s]\n"
          ]
        },
        {
          "output_type": "stream",
          "name": "stdout",
          "text": [
            "Epoch: 48, loss: 21265687100.64772, rmse (val): 57.06590, score (val): 3990.64453, mae (val): 52.82054, mse (val): 3256.51664\n"
          ]
        },
        {
          "output_type": "stream",
          "name": "stderr",
          "text": [
            "Epoch 49/500: 100%|██████████| 8/8 [00:01<00:00,  5.64it/s]\n"
          ]
        },
        {
          "output_type": "stream",
          "name": "stdout",
          "text": [
            "Epoch: 49, loss: 20031560689.45084, rmse (val): 56.74534, score (val): 3866.21143, mae (val): 52.56292, mse (val): 3220.03309\n"
          ]
        },
        {
          "output_type": "stream",
          "name": "stderr",
          "text": [
            "Epoch 50/500: 100%|██████████| 8/8 [00:01<00:00,  5.87it/s]\n"
          ]
        },
        {
          "output_type": "stream",
          "name": "stdout",
          "text": [
            "Epoch: 50, loss: 19795906027.19962, rmse (val): 56.41575, score (val): 3742.20020, mae (val): 52.29684, mse (val): 3182.73661\n"
          ]
        },
        {
          "output_type": "stream",
          "name": "stderr",
          "text": [
            "Epoch 51/500: 100%|██████████| 8/8 [00:01<00:00,  5.93it/s]\n"
          ]
        },
        {
          "output_type": "stream",
          "name": "stdout",
          "text": [
            "Epoch: 51, loss: 19775759616.26844, rmse (val): 56.08531, score (val): 3621.76489, mae (val): 52.02878, mse (val): 3145.56241\n"
          ]
        },
        {
          "output_type": "stream",
          "name": "stderr",
          "text": [
            "Epoch 52/500: 100%|██████████| 8/8 [00:01<00:00,  5.84it/s]\n"
          ]
        },
        {
          "output_type": "stream",
          "name": "stdout",
          "text": [
            "Epoch: 52, loss: 17304355953.75499, rmse (val): 55.76165, score (val): 3507.49463, mae (val): 51.76494, mse (val): 3109.36198\n"
          ]
        },
        {
          "output_type": "stream",
          "name": "stderr",
          "text": [
            "Epoch 53/500: 100%|██████████| 8/8 [00:01<00:00,  5.97it/s]\n"
          ]
        },
        {
          "output_type": "stream",
          "name": "stdout",
          "text": [
            "Epoch: 53, loss: 17447026519.24796, rmse (val): 55.49392, score (val): 3415.67188, mae (val): 51.54570, mse (val): 3079.57519\n"
          ]
        },
        {
          "output_type": "stream",
          "name": "stderr",
          "text": [
            "Epoch 54/500: 100%|██████████| 8/8 [00:01<00:00,  5.83it/s]\n"
          ]
        },
        {
          "output_type": "stream",
          "name": "stdout",
          "text": [
            "Epoch: 54, loss: 16898084618.21832, rmse (val): 55.14314, score (val): 3298.98608, mae (val): 51.25705, mse (val): 3040.76560\n"
          ]
        },
        {
          "output_type": "stream",
          "name": "stderr",
          "text": [
            "Epoch 55/500: 100%|██████████| 8/8 [00:01<00:00,  5.75it/s]\n"
          ]
        },
        {
          "output_type": "stream",
          "name": "stdout",
          "text": [
            "Epoch: 55, loss: 17366994423.02056, rmse (val): 54.81054, score (val): 3192.06201, mae (val): 50.98185, mse (val): 3004.19581\n"
          ]
        },
        {
          "output_type": "stream",
          "name": "stderr",
          "text": [
            "Epoch 56/500: 100%|██████████| 8/8 [00:01<00:00,  5.84it/s]\n"
          ]
        },
        {
          "output_type": "stream",
          "name": "stdout",
          "text": [
            "Epoch: 56, loss: 15244892876.70608, rmse (val): 54.50041, score (val): 3095.53857, mae (val): 50.72386, mse (val): 2970.29456\n"
          ]
        },
        {
          "output_type": "stream",
          "name": "stderr",
          "text": [
            "Epoch 57/500: 100%|██████████| 8/8 [00:01<00:00,  5.61it/s]\n"
          ]
        },
        {
          "output_type": "stream",
          "name": "stdout",
          "text": [
            "Epoch: 57, loss: 14031180328.08682, rmse (val): 54.19926, score (val): 3004.68896, mae (val): 50.47203, mse (val): 2937.55982\n"
          ]
        },
        {
          "output_type": "stream",
          "name": "stderr",
          "text": [
            "Epoch 58/500: 100%|██████████| 8/8 [00:01<00:00,  5.84it/s]\n"
          ]
        },
        {
          "output_type": "stream",
          "name": "stdout",
          "text": [
            "Epoch: 58, loss: 15076897495.68767, rmse (val): 53.88846, score (val): 2913.83813, mae (val): 50.21073, mse (val): 2903.96574\n"
          ]
        },
        {
          "output_type": "stream",
          "name": "stderr",
          "text": [
            "Epoch 59/500: 100%|██████████| 8/8 [00:01<00:00,  5.82it/s]\n"
          ]
        },
        {
          "output_type": "stream",
          "name": "stdout",
          "text": [
            "Epoch: 59, loss: 13934007000.15117, rmse (val): 53.84371, score (val): 2900.99902, mae (val): 50.17299, mse (val): 2899.14542\n"
          ]
        },
        {
          "output_type": "stream",
          "name": "stderr",
          "text": [
            "Epoch 60/500: 100%|██████████| 8/8 [00:01<00:00,  5.90it/s]\n"
          ]
        },
        {
          "output_type": "stream",
          "name": "stdout",
          "text": [
            "Epoch: 60, loss: 12985860963.02465, rmse (val): 53.31493, score (val): 2753.76929, mae (val): 49.72464, mse (val): 2842.48189\n"
          ]
        },
        {
          "output_type": "stream",
          "name": "stderr",
          "text": [
            "Epoch 61/500: 100%|██████████| 8/8 [00:01<00:00,  6.09it/s]\n"
          ]
        },
        {
          "output_type": "stream",
          "name": "stdout",
          "text": [
            "Epoch: 61, loss: 12794201710.59087, rmse (val): 53.07215, score (val): 2688.90259, mae (val): 49.51728, mse (val): 2816.65336\n"
          ]
        },
        {
          "output_type": "stream",
          "name": "stderr",
          "text": [
            "Epoch 62/500: 100%|██████████| 8/8 [00:01<00:00,  6.00it/s]\n"
          ]
        },
        {
          "output_type": "stream",
          "name": "stdout",
          "text": [
            "Epoch: 62, loss: 11961617964.75436, rmse (val): 52.67023, score (val): 2585.20923, mae (val): 49.17183, mse (val): 2774.15345\n"
          ]
        },
        {
          "output_type": "stream",
          "name": "stderr",
          "text": [
            "Epoch 63/500: 100%|██████████| 8/8 [00:01<00:00,  6.02it/s]\n"
          ]
        },
        {
          "output_type": "stream",
          "name": "stdout",
          "text": [
            "Epoch: 63, loss: 10911688013.60338, rmse (val): 52.40878, score (val): 2520.18823, mae (val): 48.94559, mse (val): 2746.68020\n"
          ]
        },
        {
          "output_type": "stream",
          "name": "stderr",
          "text": [
            "Epoch 64/500: 100%|██████████| 8/8 [00:01<00:00,  5.85it/s]\n"
          ]
        },
        {
          "output_type": "stream",
          "name": "stdout",
          "text": [
            "Epoch: 64, loss: 10940562702.13268, rmse (val): 52.19114, score (val): 2467.50317, mae (val): 48.75634, mse (val): 2723.91555\n"
          ]
        },
        {
          "output_type": "stream",
          "name": "stderr",
          "text": [
            "Epoch 65/500: 100%|██████████| 8/8 [00:01<00:00,  5.80it/s]\n"
          ]
        },
        {
          "output_type": "stream",
          "name": "stdout",
          "text": [
            "Epoch: 65, loss: 11796881815.74141, rmse (val): 51.87043, score (val): 2392.21387, mae (val): 48.47583, mse (val): 2690.54137\n"
          ]
        },
        {
          "output_type": "stream",
          "name": "stderr",
          "text": [
            "Epoch 66/500: 100%|██████████| 8/8 [00:01<00:00,  6.11it/s]\n"
          ]
        },
        {
          "output_type": "stream",
          "name": "stdout",
          "text": [
            "Epoch: 66, loss: 10798337899.01757, rmse (val): 51.50921, score (val): 2310.72339, mae (val): 48.15751, mse (val): 2653.19840\n"
          ]
        },
        {
          "output_type": "stream",
          "name": "stderr",
          "text": [
            "Epoch 67/500: 100%|██████████| 8/8 [00:01<00:00,  5.96it/s]\n"
          ]
        },
        {
          "output_type": "stream",
          "name": "stdout",
          "text": [
            "Epoch: 67, loss: 10905131129.59938, rmse (val): 51.23418, score (val): 2250.99634, mae (val): 47.91340, mse (val): 2624.94158\n"
          ]
        },
        {
          "output_type": "stream",
          "name": "stderr",
          "text": [
            "Epoch 68/500: 100%|██████████| 8/8 [00:01<00:00,  6.08it/s]\n"
          ]
        },
        {
          "output_type": "stream",
          "name": "stdout",
          "text": [
            "Epoch: 68, loss: 8571584878.89558, rmse (val): 50.92556, score (val): 2186.32642, mae (val): 47.63758, mse (val): 2593.41308\n"
          ]
        },
        {
          "output_type": "stream",
          "name": "stderr",
          "text": [
            "Epoch 69/500: 100%|██████████| 8/8 [00:01<00:00,  6.03it/s]\n"
          ]
        },
        {
          "output_type": "stream",
          "name": "stdout",
          "text": [
            "Epoch: 69, loss: 9692964723.22102, rmse (val): 50.65818, score (val): 2132.28857, mae (val): 47.39694, mse (val): 2566.25088\n"
          ]
        },
        {
          "output_type": "stream",
          "name": "stderr",
          "text": [
            "Epoch 70/500: 100%|██████████| 8/8 [00:01<00:00,  6.08it/s]\n"
          ]
        },
        {
          "output_type": "stream",
          "name": "stdout",
          "text": [
            "Epoch: 70, loss: 8570180959.80381, rmse (val): 50.38623, score (val): 2079.21045, mae (val): 47.15054, mse (val): 2538.77201\n"
          ]
        },
        {
          "output_type": "stream",
          "name": "stderr",
          "text": [
            "Epoch 71/500: 100%|██████████| 8/8 [00:01<00:00,  6.00it/s]\n"
          ]
        },
        {
          "output_type": "stream",
          "name": "stdout",
          "text": [
            "Epoch: 71, loss: 8166618076.33241, rmse (val): 50.11933, score (val): 2028.94739, mae (val): 46.90703, mse (val): 2511.94759\n"
          ]
        },
        {
          "output_type": "stream",
          "name": "stderr",
          "text": [
            "Epoch 72/500: 100%|██████████| 8/8 [00:01<00:00,  5.94it/s]\n"
          ]
        },
        {
          "output_type": "stream",
          "name": "stdout",
          "text": [
            "Epoch: 72, loss: 7649346432.74155, rmse (val): 49.96044, score (val): 1999.88037, mae (val): 46.76125, mse (val): 2496.04599\n"
          ]
        },
        {
          "output_type": "stream",
          "name": "stderr",
          "text": [
            "Epoch 73/500: 100%|██████████| 8/8 [00:01<00:00,  5.63it/s]\n"
          ]
        },
        {
          "output_type": "stream",
          "name": "stdout",
          "text": [
            "Epoch: 73, loss: 7474038779.38440, rmse (val): 49.59012, score (val): 1934.60217, mae (val): 46.41902, mse (val): 2459.17975\n"
          ]
        },
        {
          "output_type": "stream",
          "name": "stderr",
          "text": [
            "Epoch 74/500: 100%|██████████| 8/8 [00:01<00:00,  5.89it/s]\n"
          ]
        },
        {
          "output_type": "stream",
          "name": "stdout",
          "text": [
            "Epoch: 74, loss: 7638649494.90747, rmse (val): 49.34732, score (val): 1893.67041, mae (val): 46.19271, mse (val): 2435.15799\n"
          ]
        },
        {
          "output_type": "stream",
          "name": "stderr",
          "text": [
            "Epoch 75/500: 100%|██████████| 8/8 [00:01<00:00,  5.82it/s]\n"
          ]
        },
        {
          "output_type": "stream",
          "name": "stdout",
          "text": [
            "Epoch: 75, loss: 7038620533.05321, rmse (val): 49.07892, score (val): 1850.13855, mae (val): 45.94066, mse (val): 2408.74023\n"
          ]
        },
        {
          "output_type": "stream",
          "name": "stderr",
          "text": [
            "Epoch 76/500: 100%|██████████| 8/8 [00:01<00:00,  5.90it/s]\n"
          ]
        },
        {
          "output_type": "stream",
          "name": "stdout",
          "text": [
            "Epoch: 76, loss: 6967251835.82161, rmse (val): 48.81030, score (val): 1808.37610, mae (val): 45.68638, mse (val): 2382.44508\n"
          ]
        },
        {
          "output_type": "stream",
          "name": "stderr",
          "text": [
            "Epoch 77/500: 100%|██████████| 8/8 [00:01<00:00,  5.85it/s]\n"
          ]
        },
        {
          "output_type": "stream",
          "name": "stdout",
          "text": [
            "Epoch: 77, loss: 6795324346.99669, rmse (val): 48.55060, score (val): 1769.71655, mae (val): 45.43852, mse (val): 2357.16029\n"
          ]
        },
        {
          "output_type": "stream",
          "name": "stderr",
          "text": [
            "Epoch 78/500: 100%|██████████| 8/8 [00:01<00:00,  5.90it/s]\n"
          ]
        },
        {
          "output_type": "stream",
          "name": "stdout",
          "text": [
            "Epoch: 78, loss: 6262601916.30748, rmse (val): 48.29574, score (val): 1733.42493, mae (val): 45.19328, mse (val): 2332.47843\n"
          ]
        },
        {
          "output_type": "stream",
          "name": "stderr",
          "text": [
            "Epoch 79/500: 100%|██████████| 8/8 [00:01<00:00,  5.89it/s]\n"
          ]
        },
        {
          "output_type": "stream",
          "name": "stdout",
          "text": [
            "Epoch: 79, loss: 5937825251.25416, rmse (val): 48.16046, score (val): 1714.82593, mae (val): 45.06227, mse (val): 2319.42951\n"
          ]
        },
        {
          "output_type": "stream",
          "name": "stderr",
          "text": [
            "Epoch 80/500: 100%|██████████| 8/8 [00:01<00:00,  5.79it/s]\n"
          ]
        },
        {
          "output_type": "stream",
          "name": "stdout",
          "text": [
            "Epoch: 80, loss: 5896828015.75425, rmse (val): 47.83222, score (val): 1671.62561, mae (val): 44.74188, mse (val): 2287.92081\n"
          ]
        },
        {
          "output_type": "stream",
          "name": "stderr",
          "text": [
            "Epoch 81/500: 100%|██████████| 8/8 [00:01<00:00,  5.56it/s]\n"
          ]
        },
        {
          "output_type": "stream",
          "name": "stdout",
          "text": [
            "Epoch: 81, loss: 6086323541.91862, rmse (val): 47.56278, score (val): 1638.22107, mae (val): 44.47613, mse (val): 2262.21804\n"
          ]
        },
        {
          "output_type": "stream",
          "name": "stderr",
          "text": [
            "Epoch 82/500: 100%|██████████| 8/8 [00:01<00:00,  5.37it/s]\n"
          ]
        },
        {
          "output_type": "stream",
          "name": "stdout",
          "text": [
            "Epoch: 82, loss: 5615422813.62587, rmse (val): 47.29583, score (val): 1606.97559, mae (val): 44.21025, mse (val): 2236.89596\n"
          ]
        },
        {
          "output_type": "stream",
          "name": "stderr",
          "text": [
            "Epoch 83/500: 100%|██████████| 8/8 [00:01<00:00,  5.92it/s]\n"
          ]
        },
        {
          "output_type": "stream",
          "name": "stdout",
          "text": [
            "Epoch: 83, loss: 6215782098.38978, rmse (val): 47.06349, score (val): 1581.29736, mae (val): 43.97665, mse (val): 2214.97217\n"
          ]
        },
        {
          "output_type": "stream",
          "name": "stderr",
          "text": [
            "Epoch 84/500: 100%|██████████| 8/8 [00:01<00:00,  5.91it/s]\n"
          ]
        },
        {
          "output_type": "stream",
          "name": "stdout",
          "text": [
            "Epoch: 84, loss: 5079228090.30887, rmse (val): 46.81015, score (val): 1554.93250, mae (val): 43.71952, mse (val): 2191.19048\n"
          ]
        },
        {
          "output_type": "stream",
          "name": "stderr",
          "text": [
            "Epoch 85/500: 100%|██████████| 8/8 [00:01<00:00,  5.94it/s]\n"
          ]
        },
        {
          "output_type": "stream",
          "name": "stdout",
          "text": [
            "Epoch: 85, loss: 5015344833.16781, rmse (val): 46.56095, score (val): 1530.69031, mae (val): 43.46401, mse (val): 2167.92246\n"
          ]
        },
        {
          "output_type": "stream",
          "name": "stderr",
          "text": [
            "Epoch 86/500: 100%|██████████| 8/8 [00:01<00:00,  5.83it/s]\n"
          ]
        },
        {
          "output_type": "stream",
          "name": "stdout",
          "text": [
            "Epoch: 86, loss: 4664296227.46252, rmse (val): 46.32853, score (val): 1509.62012, mae (val): 43.22328, mse (val): 2146.33229\n"
          ]
        },
        {
          "output_type": "stream",
          "name": "stderr",
          "text": [
            "Epoch 87/500: 100%|██████████| 8/8 [00:01<00:00,  6.03it/s]\n"
          ]
        },
        {
          "output_type": "stream",
          "name": "stdout",
          "text": [
            "Epoch: 87, loss: 4057784222.62019, rmse (val): 46.11295, score (val): 1491.43469, mae (val): 42.99783, mse (val): 2126.40382\n"
          ]
        },
        {
          "output_type": "stream",
          "name": "stderr",
          "text": [
            "Epoch 88/500: 100%|██████████| 8/8 [00:01<00:00,  5.97it/s]\n"
          ]
        },
        {
          "output_type": "stream",
          "name": "stdout",
          "text": [
            "Epoch: 88, loss: 4733692143.24693, rmse (val): 45.88080, score (val): 1473.34705, mae (val): 42.75260, mse (val): 2105.04822\n"
          ]
        },
        {
          "output_type": "stream",
          "name": "stderr",
          "text": [
            "Epoch 89/500: 100%|██████████| 8/8 [00:01<00:00,  5.70it/s]\n"
          ]
        },
        {
          "output_type": "stream",
          "name": "stdout",
          "text": [
            "Epoch: 89, loss: 4216203827.93913, rmse (val): 45.64916, score (val): 1456.88159, mae (val): 42.50524, mse (val): 2083.84546\n"
          ]
        },
        {
          "output_type": "stream",
          "name": "stderr",
          "text": [
            "Epoch 90/500: 100%|██████████| 8/8 [00:01<00:00,  5.65it/s]\n"
          ]
        },
        {
          "output_type": "stream",
          "name": "stdout",
          "text": [
            "Epoch: 90, loss: 4117161787.80521, rmse (val): 45.53546, score (val): 1449.39282, mae (val): 42.38283, mse (val): 2073.47836\n"
          ]
        },
        {
          "output_type": "stream",
          "name": "stderr",
          "text": [
            "Epoch 91/500: 100%|██████████| 8/8 [00:01<00:00,  5.70it/s]\n"
          ]
        },
        {
          "output_type": "stream",
          "name": "stdout",
          "text": [
            "Epoch: 91, loss: 3788969534.27285, rmse (val): 45.20742, score (val): 1430.03857, mae (val): 42.02572, mse (val): 2043.71080\n"
          ]
        },
        {
          "output_type": "stream",
          "name": "stderr",
          "text": [
            "Epoch 92/500: 100%|██████████| 8/8 [00:01<00:00,  5.89it/s]\n"
          ]
        },
        {
          "output_type": "stream",
          "name": "stdout",
          "text": [
            "Epoch: 92, loss: 3561402589.69681, rmse (val): 44.99319, score (val): 1419.26440, mae (val): 41.78923, mse (val): 2024.38750\n"
          ]
        },
        {
          "output_type": "stream",
          "name": "stderr",
          "text": [
            "Epoch 93/500: 100%|██████████| 8/8 [00:01<00:00,  5.92it/s]\n"
          ]
        },
        {
          "output_type": "stream",
          "name": "stdout",
          "text": [
            "Epoch: 93, loss: 3698780757.52735, rmse (val): 44.78594, score (val): 1410.29858, mae (val): 41.55781, mse (val): 2005.78011\n"
          ]
        },
        {
          "output_type": "stream",
          "name": "stderr",
          "text": [
            "Epoch 94/500: 100%|██████████| 8/8 [00:01<00:00,  6.07it/s]\n"
          ]
        },
        {
          "output_type": "stream",
          "name": "stdout",
          "text": [
            "Epoch: 94, loss: 3632152747.72633, rmse (val): 44.57484, score (val): 1402.69629, mae (val): 41.31935, mse (val): 1986.91676\n"
          ]
        },
        {
          "output_type": "stream",
          "name": "stderr",
          "text": [
            "Epoch 95/500: 100%|██████████| 8/8 [00:01<00:00,  6.02it/s]\n"
          ]
        },
        {
          "output_type": "stream",
          "name": "stdout",
          "text": [
            "Epoch: 95, loss: 3280208656.90049, rmse (val): 44.35764, score (val): 1396.54834, mae (val): 41.07091, mse (val): 1967.60065\n"
          ]
        },
        {
          "output_type": "stream",
          "name": "stderr",
          "text": [
            "Epoch 96/500: 100%|██████████| 8/8 [00:01<00:00,  5.89it/s]\n"
          ]
        },
        {
          "output_type": "stream",
          "name": "stdout",
          "text": [
            "Epoch: 96, loss: 3179017590.70584, rmse (val): 44.14440, score (val): 1392.23730, mae (val): 40.82381, mse (val): 1948.72843\n"
          ]
        },
        {
          "output_type": "stream",
          "name": "stderr",
          "text": [
            "Epoch 97/500: 100%|██████████| 8/8 [00:01<00:00,  5.78it/s]\n"
          ]
        },
        {
          "output_type": "stream",
          "name": "stdout",
          "text": [
            "Epoch: 97, loss: 3090354281.45975, rmse (val): 43.95528, score (val): 1389.90845, mae (val): 40.60187, mse (val): 1932.06694\n"
          ]
        },
        {
          "output_type": "stream",
          "name": "stderr",
          "text": [
            "Epoch 98/500: 100%|██████████| 8/8 [00:01<00:00,  5.87it/s]\n"
          ]
        },
        {
          "output_type": "stream",
          "name": "stdout",
          "text": [
            "Epoch: 98, loss: 2991460515.51920, rmse (val): 43.75534, score (val): 1389.04504, mae (val): 40.36422, mse (val): 1914.52978\n"
          ]
        },
        {
          "output_type": "stream",
          "name": "stderr",
          "text": [
            "Epoch 99/500: 100%|██████████| 8/8 [00:01<00:00,  6.15it/s]\n"
          ]
        },
        {
          "output_type": "stream",
          "name": "stdout",
          "text": [
            "Epoch: 99, loss: 2755175924.88412, rmse (val): 43.72786, score (val): 1389.05896, mae (val): 40.33131, mse (val): 1912.12589\n"
          ]
        },
        {
          "output_type": "stream",
          "name": "stderr",
          "text": [
            "Epoch 100/500: 100%|██████████| 8/8 [00:01<00:00,  6.10it/s]\n"
          ]
        },
        {
          "output_type": "stream",
          "name": "stdout",
          "text": [
            "Epoch: 100, loss: 2755642076.93016, rmse (val): 43.36304, score (val): 1392.44458, mae (val): 39.88831, mse (val): 1880.35335\n"
          ]
        },
        {
          "output_type": "stream",
          "name": "stderr",
          "text": [
            "Epoch 101/500: 100%|██████████| 8/8 [00:01<00:00,  5.94it/s]\n"
          ]
        },
        {
          "output_type": "stream",
          "name": "stdout",
          "text": [
            "Epoch: 101, loss: 2837121299.98904, rmse (val): 43.27597, score (val): 1394.17017, mae (val): 39.78084, mse (val): 1872.80976\n"
          ]
        },
        {
          "output_type": "stream",
          "name": "stderr",
          "text": [
            "Epoch 102/500: 100%|██████████| 8/8 [00:01<00:00,  6.10it/s]\n"
          ]
        },
        {
          "output_type": "stream",
          "name": "stdout",
          "text": [
            "Epoch: 102, loss: 2482953936.76998, rmse (val): 42.96295, score (val): 1403.51587, mae (val): 39.38849, mse (val): 1845.81489\n"
          ]
        },
        {
          "output_type": "stream",
          "name": "stderr",
          "text": [
            "Epoch 103/500: 100%|██████████| 8/8 [00:01<00:00,  5.96it/s]\n"
          ]
        },
        {
          "output_type": "stream",
          "name": "stdout",
          "text": [
            "Epoch: 103, loss: 2276266232.68582, rmse (val): 42.78159, score (val): 1411.31653, mae (val): 39.15664, mse (val): 1830.26435\n"
          ]
        },
        {
          "output_type": "stream",
          "name": "stderr",
          "text": [
            "Epoch 104/500: 100%|██████████| 8/8 [00:01<00:00,  5.86it/s]\n"
          ]
        },
        {
          "output_type": "stream",
          "name": "stdout",
          "text": [
            "Epoch: 104, loss: 2543307627.05221, rmse (val): 42.60719, score (val): 1420.59131, mae (val): 38.93030, mse (val): 1815.37232\n"
          ]
        },
        {
          "output_type": "stream",
          "name": "stderr",
          "text": [
            "Epoch 105/500: 100%|██████████| 8/8 [00:01<00:00,  5.88it/s]\n"
          ]
        },
        {
          "output_type": "stream",
          "name": "stdout",
          "text": [
            "Epoch: 105, loss: 2153158542.80701, rmse (val): 42.44675, score (val): 1430.80566, mae (val): 38.74918, mse (val): 1801.72666\n"
          ]
        },
        {
          "output_type": "stream",
          "name": "stderr",
          "text": [
            "Epoch 106/500: 100%|██████████| 8/8 [00:01<00:00,  5.86it/s]\n"
          ]
        },
        {
          "output_type": "stream",
          "name": "stdout",
          "text": [
            "Epoch: 106, loss: 2102047689.63059, rmse (val): 42.24986, score (val): 1445.62732, mae (val): 38.52951, mse (val): 1785.05095\n"
          ]
        },
        {
          "output_type": "stream",
          "name": "stderr",
          "text": [
            "Epoch 107/500: 100%|██████████| 8/8 [00:01<00:00,  6.03it/s]\n"
          ]
        },
        {
          "output_type": "stream",
          "name": "stdout",
          "text": [
            "Epoch: 107, loss: 2238481778.20372, rmse (val): 42.09317, score (val): 1459.33545, mae (val): 38.35170, mse (val): 1771.83529\n"
          ]
        },
        {
          "output_type": "stream",
          "name": "stderr",
          "text": [
            "Epoch 108/500: 100%|██████████| 8/8 [00:01<00:00,  6.10it/s]\n"
          ]
        },
        {
          "output_type": "stream",
          "name": "stdout",
          "text": [
            "Epoch: 108, loss: 2074355314.65971, rmse (val): 41.91151, score (val): 1477.50610, mae (val): 38.14201, mse (val): 1756.57482\n"
          ]
        },
        {
          "output_type": "stream",
          "name": "stderr",
          "text": [
            "Epoch 109/500: 100%|██████████| 8/8 [00:01<00:00,  6.08it/s]\n"
          ]
        },
        {
          "output_type": "stream",
          "name": "stdout",
          "text": [
            "Epoch: 109, loss: 1962102817.06287, rmse (val): 41.73984, score (val): 1497.09082, mae (val): 37.94011, mse (val): 1742.21446\n"
          ]
        },
        {
          "output_type": "stream",
          "name": "stderr",
          "text": [
            "Epoch 110/500: 100%|██████████| 8/8 [00:01<00:00,  5.97it/s]\n"
          ]
        },
        {
          "output_type": "stream",
          "name": "stdout",
          "text": [
            "Epoch: 110, loss: 1936563509.12764, rmse (val): 41.58637, score (val): 1516.73804, mae (val): 37.75634, mse (val): 1729.42657\n"
          ]
        },
        {
          "output_type": "stream",
          "name": "stderr",
          "text": [
            "Epoch 111/500: 100%|██████████| 8/8 [00:01<00:00,  6.03it/s]\n"
          ]
        },
        {
          "output_type": "stream",
          "name": "stdout",
          "text": [
            "Epoch: 111, loss: 1775367676.18554, rmse (val): 41.42151, score (val): 1540.27039, mae (val): 37.55523, mse (val): 1715.74158\n"
          ]
        },
        {
          "output_type": "stream",
          "name": "stderr",
          "text": [
            "Epoch 112/500: 100%|██████████| 8/8 [00:01<00:00,  6.19it/s]\n"
          ]
        },
        {
          "output_type": "stream",
          "name": "stdout",
          "text": [
            "Epoch: 112, loss: 1626491408.56020, rmse (val): 41.27150, score (val): 1564.03857, mae (val): 37.36868, mse (val): 1703.33657\n"
          ]
        },
        {
          "output_type": "stream",
          "name": "stderr",
          "text": [
            "Epoch 113/500: 100%|██████████| 8/8 [00:01<00:00,  5.96it/s]\n"
          ]
        },
        {
          "output_type": "stream",
          "name": "stdout",
          "text": [
            "Epoch: 113, loss: 1591551270.68406, rmse (val): 41.13072, score (val): 1588.54956, mae (val): 37.19030, mse (val): 1691.73584\n"
          ]
        },
        {
          "output_type": "stream",
          "name": "stderr",
          "text": [
            "Epoch 114/500: 100%|██████████| 8/8 [00:01<00:00,  5.93it/s]\n"
          ]
        },
        {
          "output_type": "stream",
          "name": "stdout",
          "text": [
            "Epoch: 114, loss: 1459222417.00492, rmse (val): 40.97322, score (val): 1618.71277, mae (val): 36.98668, mse (val): 1678.80439\n"
          ]
        },
        {
          "output_type": "stream",
          "name": "stderr",
          "text": [
            "Epoch 115/500: 100%|██████████| 8/8 [00:01<00:00,  6.09it/s]\n"
          ]
        },
        {
          "output_type": "stream",
          "name": "stdout",
          "text": [
            "Epoch: 115, loss: 1512815870.88634, rmse (val): 40.83689, score (val): 1647.35522, mae (val): 36.80672, mse (val): 1667.65123\n"
          ]
        },
        {
          "output_type": "stream",
          "name": "stderr",
          "text": [
            "Epoch 116/500: 100%|██████████| 8/8 [00:01<00:00,  6.15it/s]\n"
          ]
        },
        {
          "output_type": "stream",
          "name": "stdout",
          "text": [
            "Epoch: 116, loss: 1586065730.29208, rmse (val): 40.68873, score (val): 1681.39050, mae (val): 36.60692, mse (val): 1655.57273\n"
          ]
        },
        {
          "output_type": "stream",
          "name": "stderr",
          "text": [
            "Epoch 117/500: 100%|██████████| 8/8 [00:01<00:00,  6.07it/s]\n"
          ]
        },
        {
          "output_type": "stream",
          "name": "stdout",
          "text": [
            "Epoch: 117, loss: 1423267971.08394, rmse (val): 40.54310, score (val): 1718.06946, mae (val): 36.40591, mse (val): 1643.74282\n"
          ]
        },
        {
          "output_type": "stream",
          "name": "stderr",
          "text": [
            "Epoch 118/500: 100%|██████████| 8/8 [00:01<00:00,  5.91it/s]\n"
          ]
        },
        {
          "output_type": "stream",
          "name": "stdout",
          "text": [
            "Early stopping at epoch 118\n"
          ]
        },
        {
          "output_type": "display_data",
          "data": {
            "text/plain": [
              "<Figure size 1000x600 with 1 Axes>"
            ],
            "image/png": "[encoded data removed]"
          },
          "metadata": {}
        },
        {
          "output_type": "stream",
          "name": "stdout",
          "text": [
            "RMSE (test): 41.57132, Score (test): 11232.63379, MAE (test): 36.92712, MSE (test): 1728.17457\n"
          ]
        },
        {
          "output_type": "display_data",
          "data": {
            "text/plain": [
              "<Figure size 1000x600 with 1 Axes>"
            ],
            "image/png": "[encoded data removed]"
          },
          "metadata": {}
        },
        {
          "output_type": "display_data",
          "data": {
            "text/plain": [
              "<Figure size 1400x800 with 1 Axes>"
            ],
            "image/png": "[encoded data removed]"
          },
          "metadata": {}
        }
      ],
      "source": [
        "import os\n",
        "import numpy as np\n",
        "import torch\n",
        "import torch.nn as nn\n",
        "import torch.optim as optim\n",
        "from torch.utils.data import DataLoader, Dataset\n",
        "from tabulate import tabulate\n",
        "import random\n",
        "from sklearn.model_selection import train_test_split\n",
        "from sklearn.preprocessing import StandardScaler\n",
        "import pandas as pd\n",
        "import torch.nn.functional as F\n",
        "import math\n",
        "from torch.autograd import Variable\n",
        "from sklearn.metrics import mean_absolute_error, mean_squared_error\n",
        "import matplotlib.pyplot as plt\n",
        "from tqdm import tqdm  # Biblioteca para barra de progresso\n",
        "\n",
        "# Verificar se CUDA está disponível\n",
        "device = torch.device('cuda' if torch.cuda.is_available() else 'cpu')\n",
        "print('Running on', device)\n",
        "\n",
        "# Configuração de semente aleatória para reprodutibilidade\n",
        "seed = 18\n",
        "os.environ['PYTHONHASHSEED'] = str(seed)\n",
        "np.random.seed(seed)\n",
        "random.seed(seed)\n",
        "torch.manual_seed(seed)\n",
        "if torch.cuda.is_available():\n",
        "    torch.cuda.manual_seed(seed)  # CUDA\n",
        "    torch.cuda.manual_seed_all(seed)  # if use multi-GPU\n",
        "    torch.backends.cudnn.benchmark = True\n",
        "    torch.backends.cudnn.deterministic = True\n",
        "\n",
        "# Função para adicionar RUL ao dataset\n",
        "def add_rul_1(df):\n",
        "    grouped_by_unit = df.groupby(by=\"unit_nr\")\n",
        "    max_cycle = grouped_by_unit[\"time_cycles\"].max()\n",
        "    result_frame = df.merge(max_cycle.to_frame(name='max_cycle'), left_on='unit_nr', right_index=True)\n",
        "    remaining_useful_life = result_frame[\"max_cycle\"] - result_frame[\"time_cycles\"]\n",
        "    result_frame[\"RUL\"] = remaining_useful_life\n",
        "    result_frame = result_frame.drop(\"max_cycle\", axis=1)\n",
        "    return result_frame\n",
        "\n",
        "# Função para carregar o banco de dados\n",
        "def load_db(db, cut):\n",
        "    dir_path = 'drive/MyDrive/CMAPSSData/'\n",
        "    index_names = ['unit_nr', 'time_cycles']\n",
        "    setting_names = ['setting_1', 'setting_2', 'setting_3']\n",
        "    sensor_names = ['s_{}'.format(i) for i in range(1, 22)]\n",
        "    col_names = index_names + setting_names + sensor_names\n",
        "\n",
        "    # Carregar dados de treinamento e teste\n",
        "    train = pd.read_csv((dir_path + f'train_{db}.txt'), sep='\\s+', header=None, names=col_names)\n",
        "    test = pd.read_csv((dir_path + f'test_{db}.txt'), sep='\\s+', header=None, names=col_names)\n",
        "    y_test = pd.read_csv((dir_path + f'RUL_{db}.txt'), sep='\\s+', header=None, names=['RUL'])\n",
        "\n",
        "    # Remover colunas de configurações e sensores não utilizados\n",
        "    drop_sensors = []\n",
        "    drop_labels = setting_names + drop_sensors\n",
        "    train.drop(labels=drop_labels, axis=1, inplace=True)\n",
        "    test.drop(labels=drop_labels, axis=1, inplace=True)\n",
        "\n",
        "    # Adicionar coluna de RUL no conjunto de treinamento\n",
        "    train = add_rul_1(train)\n",
        "\n",
        "    # Normalizar os dados\n",
        "    scaler = StandardScaler()\n",
        "    train.iloc[:, 2:-1] = scaler.fit_transform(train.iloc[:, 2:-1])\n",
        "    test.iloc[:, 2:] = scaler.transform(test.iloc[:, 2:])\n",
        "\n",
        "    # Agrupar dados por unidade\n",
        "    group_train = {name: group for name, group in train.groupby(by=\"unit_nr\")}\n",
        "    group_test = {name: group for name, group in test.groupby(by=\"unit_nr\")}\n",
        "\n",
        "    return group_train, group_test, y_test\n",
        "\n",
        "# Definição do bloco de Transformer\n",
        "class TransformerBlock(nn.Module):\n",
        "    def __init__(self, embed_dim, num_heads, ff_dim, dropout_rate=0.1):\n",
        "        super(TransformerBlock, self).__init__()\n",
        "        self.att = nn.MultiheadAttention(embed_dim, num_heads, dropout=dropout_rate)\n",
        "        self.ffn = nn.Sequential(\n",
        "            nn.Linear(embed_dim, ff_dim),\n",
        "            nn.ReLU(),\n",
        "            nn.Linear(ff_dim, embed_dim),\n",
        "        )\n",
        "        self.layernorm1 = nn.LayerNorm(embed_dim)\n",
        "        self.layernorm2 = nn.LayerNorm(embed_dim)\n",
        "        self.dropout1 = nn.Dropout(dropout_rate)\n",
        "        self.dropout2 = nn.Dropout(dropout_rate)\n",
        "\n",
        "    def forward(self, x):\n",
        "        attn_output, _ = self.att(x, x, x)\n",
        "        attn_output = self.dropout1(attn_output)\n",
        "        out1 = self.layernorm1(x + attn_output)\n",
        "        ffn_output = self.ffn(out1)\n",
        "        ffn_output = self.dropout2(ffn_output)\n",
        "        return self.layernorm2(out1 + ffn_output)\n",
        "\n",
        "# Definição do bloco de Decoder do Transformer\n",
        "class TransformerDecoderBlock(nn.Module):\n",
        "    def __init__(self, embed_dim, num_heads, ff_dim, dropout_rate=0.1):\n",
        "        super(TransformerDecoderBlock, self).__init__()\n",
        "        self.att1 = nn.MultiheadAttention(embed_dim, num_heads, dropout=dropout_rate)\n",
        "        self.att2 = nn.MultiheadAttention(embed_dim, num_heads, dropout=dropout_rate)\n",
        "        self.ffn = nn.Sequential(\n",
        "            nn.Linear(embed_dim, ff_dim),\n",
        "            nn.ReLU(),\n",
        "            nn.Linear(ff_dim, embed_dim),\n",
        "        )\n",
        "        self.layernorm1 = nn.LayerNorm(embed_dim)\n",
        "        self.layernorm2 = nn.LayerNorm(embed_dim)\n",
        "        self.layernorm3 = nn.LayerNorm(embed_dim)\n",
        "        self.dropout1 = nn.Dropout(dropout_rate)\n",
        "        self.dropout2 = nn.Dropout(dropout_rate)\n",
        "        self.dropout3 = nn.Dropout(dropout_rate)\n",
        "\n",
        "    def forward(self, x, enc_output):\n",
        "        attn1, _ = self.att1(x, x, x)\n",
        "        attn1 = self.dropout1(attn1)\n",
        "        out1 = self.layernorm1(x + attn1)\n",
        "        attn2, _ = self.att2(out1, enc_output, enc_output)\n",
        "        attn2 = self.dropout2(attn2)\n",
        "        out2 = self.layernorm2(out1 + attn2)\n",
        "        ffn_output = self.ffn(out2)\n",
        "        ffn_output = self.dropout3(ffn_output)\n",
        "        return self.layernorm3(out2 + ffn_output)\n",
        "\n",
        "# Definição do Encoder do Transformer\n",
        "class TransformerEncoder(nn.Module):\n",
        "    def __init__(self, num_layers, embed_dim, num_heads, ff_dim, dropout_rate=0.1):\n",
        "        super(TransformerEncoder, self).__init__()\n",
        "        self.enc_layers = nn.ModuleList([TransformerBlock(embed_dim, num_heads, ff_dim, dropout_rate) for _ in range(num_layers)])\n",
        "        self.dropout = nn.Dropout(dropout_rate)\n",
        "\n",
        "    def forward(self, x):\n",
        "        for layer in self.enc_layers:\n",
        "            x = layer(x)\n",
        "        return self.dropout(x)\n",
        "\n",
        "# Definição do Decoder do Transformer\n",
        "class TransformerDecoder(nn.Module):\n",
        "    def __init__(self, num_layers, embed_dim, num_heads, ff_dim, dropout_rate=0.1):\n",
        "        super(TransformerDecoder, self).__init__()\n",
        "        self.dec_layers = nn.ModuleList([TransformerDecoderBlock(embed_dim, num_heads, ff_dim, dropout_rate) for _ in range(num_layers)])\n",
        "        self.dropout = nn.Dropout(dropout_rate)\n",
        "\n",
        "    def forward(self, x, enc_output):\n",
        "        for layer in self.dec_layers:\n",
        "            x = layer(x, enc_output)\n",
        "        return self.dropout(x)\n",
        "\n",
        "# Definição do Modelo Transformer\n",
        "class TransformerModel(nn.Module):\n",
        "    def __init__(self, input_dim, num_layers=2, embed_dim=128, num_heads=2, ff_dim=256, dropout_rate=0.1):\n",
        "        super(TransformerModel, self).__init__()\n",
        "        self.lstm1 = nn.LSTM(input_dim, embed_dim, batch_first=True)\n",
        "        self.lstm2 = nn.LSTM(embed_dim, embed_dim, batch_first=True)\n",
        "        self.encoder = TransformerEncoder(num_layers, embed_dim, num_heads, ff_dim, dropout_rate)\n",
        "        self.decoder = TransformerDecoder(num_layers, embed_dim, num_heads, ff_dim, dropout_rate)\n",
        "        self.flatten = nn.Flatten()\n",
        "        self.dropout = nn.Dropout(dropout_rate)\n",
        "        self.fc = None\n",
        "\n",
        "    def forward(self, x):\n",
        "        x, _ = self.lstm1(x)\n",
        "        x, _ = self.lstm2(x)\n",
        "        x = self.encoder(x)\n",
        "        x = self.decoder(x, x)\n",
        "        x = self.flatten(x)\n",
        "        x = self.dropout(x)\n",
        "\n",
        "        if self.fc is None:\n",
        "            self.fc = nn.Linear(x.size(1), 1).to(x.device)\n",
        "\n",
        "        return self.fc(x)\n",
        "\n",
        "# Função de pontuação customizada\n",
        "def custom_score(y_true, y_pred):\n",
        "    y_true = y_true.float()\n",
        "    y_pred = y_pred.float()\n",
        "    d = y_pred - y_true\n",
        "    mask_negative = d < 0\n",
        "    mask_positive = d >= 0\n",
        "\n",
        "    # Mantendo a essência da função original\n",
        "    score_negative = torch.exp(-d / 13) - 1\n",
        "    score_positive = torch.exp(d / 10) - 1\n",
        "\n",
        "    # Aplicando um fator para trazer para a escala do RMSE\n",
        "    score = torch.zeros_like(d)\n",
        "    score[mask_negative] = score_negative[mask_negative]\n",
        "    score[mask_positive] = score_positive[mask_positive]\n",
        "\n",
        "    # Somando as pontuações\n",
        "    total_score = torch.mean(score)\n",
        "    return total_score\n",
        "\n",
        "# Função de cálculo de RMSE\n",
        "def rmse(y_true, y_pred):\n",
        "    return torch.sqrt(torch.mean((y_true - y_pred) ** 2))\n",
        "\n",
        "# Função de teste\n",
        "def testing_function(group_for_test, model):\n",
        "    rmse_test, result_test = 0, list()\n",
        "    score_test = 0\n",
        "    mae_test = 0\n",
        "    mse_test = 0\n",
        "    y_true_list = []\n",
        "    y_pred_list = []\n",
        "\n",
        "    for ite in group_for_test.keys():\n",
        "        X_test = group_for_test[ite].iloc[:, 2:]\n",
        "        X_test_tensors = Variable(torch.Tensor(X_test.to_numpy())).to(device)\n",
        "        X_test_tensors = torch.reshape(X_test_tensors, (X_test_tensors.shape[0], 1, X_test_tensors.shape[1]))\n",
        "        if X_test_tensors.size(-1) != input_dim:\n",
        "            X_test_tensors = X_test_tensors[:, :, :input_dim]\n",
        "        test_predict = model.forward(X_test_tensors)\n",
        "        data_predict = max(test_predict[-1].detach().cpu().numpy(), 0)\n",
        "        result_test.append(data_predict)\n",
        "        y_true = y_test.to_numpy()[ite - 1]\n",
        "        y_true_list.append(y_true)\n",
        "        y_pred_list.append(data_predict)\n",
        "        rmse_test += np.power((data_predict - y_true), 2)\n",
        "        mae_test += np.abs(data_predict - y_true)\n",
        "        mse_test += (data_predict - y_true) ** 2\n",
        "        score_test += custom_score(torch.tensor(y_true).to(device), torch.tensor([data_predict]).to(device))\n",
        "\n",
        "    rmse_test = (np.sqrt(rmse_test / len(group_for_test))).item()\n",
        "    mae_test = (mae_test / len(group_for_test)).item()\n",
        "    mse_test = (mse_test / len(group_for_test)).item()\n",
        "    score_test = score_test.item()\n",
        "\n",
        "    return result_test, rmse_test, score_test, mae_test, mse_test\n",
        "\n",
        "# Função de treinamento\n",
        "def train(model_for_train, ntrain, group_for_train, group_for_val, optimizer, batch_size=32, patience=20, N_EPOCH=500):\n",
        "    score_temp = float('inf')\n",
        "    best_model_state = None\n",
        "    train_losses = []\n",
        "    val_losses = []\n",
        "    val_scores = []\n",
        "    val_mae = []\n",
        "    val_mse = []\n",
        "\n",
        "    epochs_no_improve = 0\n",
        "    early_stop = False\n",
        "\n",
        "    for epoch in range(1, N_EPOCH + 1):\n",
        "        model_for_train.train()\n",
        "        epoch_loss = 0\n",
        "\n",
        "        train_data = list(group_for_train.keys())\n",
        "        random.shuffle(train_data)\n",
        "\n",
        "        for i in tqdm(range(0, len(train_data), batch_size), desc=f'Epoch {epoch}/{N_EPOCH}'):\n",
        "            batch_keys = train_data[i:i + batch_size]\n",
        "            batch_loss = 0\n",
        "            for key in batch_keys:\n",
        "                X, y = group_for_train[key].iloc[:, 2:-1], group_for_train[key].iloc[:, -1:]\n",
        "                X_train_tensors = torch.Tensor(X.to_numpy()).to(device)\n",
        "                y_train_tensors = torch.Tensor(y.to_numpy()).to(device)\n",
        "                X_train_tensors = torch.reshape(X_train_tensors, (X_train_tensors.shape[0], 1, X_train_tensors.shape[1]))\n",
        "                if X_train_tensors.size(-1) != input_dim:\n",
        "                    X_train_tensors = X_train_tensors[:, :, :input_dim]\n",
        "\n",
        "                outputs = model_for_train(X_train_tensors)\n",
        "                optimizer.zero_grad()\n",
        "                loss = custom_score(outputs, y_train_tensors)\n",
        "                batch_loss += loss.item()\n",
        "                loss.backward()\n",
        "                optimizer.step()\n",
        "            epoch_loss += batch_loss / len(batch_keys)\n",
        "\n",
        "        train_losses.append(epoch_loss / (len(train_data) / batch_size))\n",
        "        model_for_train.eval()\n",
        "        result_val, rmse_val, score_val, mae_val, mse_val = testing_function(group_for_val, model_for_train)\n",
        "        val_losses.append(rmse_val)\n",
        "        val_scores.append(score_val)\n",
        "        val_mae.append(mae_val)\n",
        "        val_mse.append(mse_val)\n",
        "\n",
        "        if score_val < score_temp:\n",
        "            score_temp = score_val\n",
        "            best_model_state = model_for_train.state_dict()\n",
        "            epochs_no_improve = 0\n",
        "        else:\n",
        "            epochs_no_improve += 1\n",
        "\n",
        "        if epochs_no_improve >= patience:\n",
        "            print(f\"Early stopping at epoch {epoch}\")\n",
        "            early_stop = True\n",
        "            break\n",
        "\n",
        "        print(f\"Epoch: {epoch}, loss: {epoch_loss / (len(train_data) / batch_size):.5f}, rmse (val): {rmse_val:.5f}, score (val): {score_val:.5f}, mae (val): {mae_val:.5f}, mse (val): {mse_val:.5f}\")\n",
        "\n",
        "    if not early_stop:\n",
        "        print(\"Training completed without early stopping\")\n",
        "\n",
        "    if best_model_state is not None:\n",
        "        model_for_train.load_state_dict(best_model_state)\n",
        "\n",
        "    return model_for_train, train_losses, val_losses, val_scores, val_mae, val_mse\n",
        "\n",
        "# Carregar dados e dividir em treinamento e validação\n",
        "group_train, group_test, y_test = load_db('FD001', cut=125)\n",
        "train_keys, val_keys = train_test_split(list(group_train.keys()), test_size=0.2, random_state=18)\n",
        "group_train_split = {k: group_train[k] for k in train_keys}\n",
        "group_val_split = {k: group_train[k] for k in val_keys}\n",
        "input_dim = len(group_train[train_keys[0]].columns) - 3\n",
        "\n",
        "from sklearn.model_selection import ParameterGrid\n",
        "\n",
        "# Função para avaliar o modelo com diferentes parâmetros\n",
        "def evaluate_model(params):\n",
        "    model = TransformerModel(input_dim=input_dim,\n",
        "                             num_layers=params['num_layers'],\n",
        "                             embed_dim=params['embed_dim'],\n",
        "                             num_heads=params['num_heads'],\n",
        "                             ff_dim=params['ff_dim'],\n",
        "                             dropout_rate=params['dropout_rate']).to(device)\n",
        "    optimizer = optim.Adam(model.parameters(), lr=params['learning_rate'])\n",
        "    model, _, val_losses, val_scores, _, _ = train(model, len(group_train_split), group_train_split, group_val_split, optimizer, patience=20, N_EPOCH=500, batch_size=params['batch_size'])\n",
        "\n",
        "    return min(val_scores)\n",
        "\n",
        "'''\n",
        "# Grid search para encontrar os melhores parâmetros\n",
        "param_grid = {\n",
        "    'num_layers': [2, 4, 6],\n",
        "    'embed_dim': [128, 200, 256],\n",
        "    'num_heads': [2, 4, 8],\n",
        "    'ff_dim': [128, 200, 256],\n",
        "    'dropout_rate': [0.1, 0.2, 0.3],\n",
        "    'learning_rate': [0.001, 0.01, 0.1],\n",
        "    'batch_size': [16, 32, 64]\n",
        "}\n",
        "\n",
        "best_params = None\n",
        "best_score = float('inf')\n",
        "grid = ParameterGrid(param_grid)\n",
        "\n",
        "for params in grid:\n",
        "    print(f\"Testando parâmetros: {params}\")\n",
        "    score = evaluate_model(params)\n",
        "    print(f\"Score: {score}\")\n",
        "    if score < best_score:\n",
        "        best_score = score\n",
        "        best_params = params\n",
        "\n",
        "print(f\"Melhores parâmetros encontrados: {best_params} com score: {best_score}\")\n",
        "'''\n",
        "\n",
        "# Definir os parâmetros do melhor modelo\n",
        "best_params = {'dropout_rate': 0.1, 'embed_dim': 256, 'ff_dim': 200, 'learning_rate': 0.01, 'num_heads': 2, 'num_layers': 2, 'batch_size': 10}\n",
        "\n",
        "# Treinar o modelo com os melhores parâmetros encontrados\n",
        "model = TransformerModel(input_dim=input_dim,\n",
        "                         num_layers=best_params['num_layers'],\n",
        "                         embed_dim=best_params['embed_dim'],\n",
        "                         num_heads=best_params['num_heads'],\n",
        "                         ff_dim=best_params['ff_dim'],\n",
        "                         dropout_rate=best_params['dropout_rate']).to(device)\n",
        "optimizer = optim.Adam(model.parameters(), lr=best_params['learning_rate'])\n",
        "model, train_losses, val_losses, val_scores, val_mae, val_mse = train(model, len(group_train_split), group_train_split, group_val_split, optimizer, batch_size=best_params['batch_size'])\n",
        "\n",
        "# Plotar perdas de treinamento e validação\n",
        "plt.figure(figsize=(10, 6))\n",
        "plt.plot(train_losses, label='Training Loss')\n",
        "plt.plot(val_losses, label='Validation Loss')\n",
        "plt.xlabel('Epoch')\n",
        "plt.ylabel('Loss')\n",
        "plt.title('Training and Validation Loss Over Epochs with Best Model')\n",
        "plt.legend()\n",
        "plt.show()\n",
        "\n",
        "# Avaliar o modelo no conjunto de teste\n",
        "result_test, rmse_test, score_test, mae_test, mse_test = testing_function(group_test, model)\n",
        "print(f\"RMSE (test): {rmse_test:.5f}, Score (test): {score_test:.5f}, MAE (test): {mae_test:.5f}, MSE (test): {mse_test:.5f}\")\n",
        "\n",
        "# Função para plotar distribuição de erros de previsão\n",
        "def plot_error_distribution(y_true, y_pred):\n",
        "    errors = y_pred - y_true\n",
        "    plt.figure(figsize=(10, 6))\n",
        "    plt.hist(errors, bins=30, edgecolor='k', alpha=0.7)\n",
        "    plt.title('Distribuição dos Erros de Previsão')\n",
        "    plt.xlabel('Erro de Previsão')\n",
        "    plt.ylabel('Frequência')\n",
        "    plt.show()\n",
        "\n",
        "plot_error_distribution(np.array(y_test).flatten(), np.array(result_test).flatten())\n",
        "\n",
        "# Função para plotar previsões de RUL\n",
        "def plot_rul_predictions(y_true, y_pred):\n",
        "    # Certifique-se de que y_true e y_pred sejam arrays numpy\n",
        "    if isinstance(y_true, pd.DataFrame) or isinstance(y_true, pd.Series):\n",
        "        y_true = y_true.to_numpy().flatten()\n",
        "    if isinstance(y_pred, pd.DataFrame) or isinstance(y_pred, pd.Series):\n",
        "        y_pred = y_pred.to_numpy().flatten()\n",
        "\n",
        "    # Verifique se ambos y_true e y_pred são listas ou arrays numpy\n",
        "    y_true = np.asarray(y_true).flatten()\n",
        "    y_pred = np.asarray(y_pred).flatten()\n",
        "\n",
        "    # Verifique se ambos têm o mesmo comprimento\n",
        "    if len(y_true) != len(y_pred):\n",
        "        raise ValueError(\"y_true e y_pred devem ter o mesmo comprimento\")\n",
        "\n",
        "    plt.figure(figsize=(14, 8))  # Aumentar a largura do gráfico\n",
        "    indices = np.arange(len(y_true))\n",
        "\n",
        "    plt.scatter(indices, y_true, label='True RUL', color='black', marker='s')\n",
        "    plt.scatter(indices, y_pred, label='Predicted RUL', color='red', marker='o')\n",
        "\n",
        "    # Adicionar linhas finas pretas entre previsões e valores reais\n",
        "    for i in range(len(y_true)):\n",
        "        if y_pred[i] < y_true[i]:\n",
        "            plt.plot([i, i], [y_true[i], y_pred[i]], color='black', linewidth=1, linestyle=\":\")\n",
        "        else:\n",
        "            plt.plot([i, i], [y_true[i], y_pred[i]], color='red', linewidth=1, linestyle=\":\")\n",
        "\n",
        "    plt.title('RUL Predictions vs True RUL')\n",
        "    plt.xlabel('Sample Index')\n",
        "    plt.ylabel('RUL Cycles')\n",
        "    plt.legend()\n",
        "    plt.show()\n",
        "\n",
        "plot_rul_predictions(np.array(y_test).flatten(), np.array(result_test).flatten())\n"
      ]
    }
  ],
  "metadata": {
    "accelerator": "GPU",
    "colab": {
      "gpuType": "T4",
      "machine_shape": "hm",
      "provenance": [],
      "mount_file_id": "142f-yCzv4-EoNSJBYBUdP3YOt8Faygul",
      "authorship_tag": "ABX9TyPOVQ2TzUP6zypoEJZCIpiP",
      "include_colab_link": true
    },
    "kernelspec": {
      "display_name": "Python 3",
      "name": "python3"
    },
    "language_info": {
      "name": "python"
    }
  },
  "nbformat": 4,
  "nbformat_minor": 0
}